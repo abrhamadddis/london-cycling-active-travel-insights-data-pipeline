{
 "cells": [
  {
   "cell_type": "code",
   "execution_count": 2,
   "metadata": {},
   "outputs": [],
   "source": [
    "import pandas as pd\n",
    "df = pd.read_csv(\"data/active_travel/2014 Q1 (Jan-Mar)-Central.csv\")"
   ]
  },
  {
   "cell_type": "code",
   "execution_count": 4,
   "metadata": {},
   "outputs": [
    {
     "data": {
      "text/html": [
       "<div>\n",
       "<style scoped>\n",
       "    .dataframe tbody tr th:only-of-type {\n",
       "        vertical-align: middle;\n",
       "    }\n",
       "\n",
       "    .dataframe tbody tr th {\n",
       "        vertical-align: top;\n",
       "    }\n",
       "\n",
       "    .dataframe thead th {\n",
       "        text-align: right;\n",
       "    }\n",
       "</style>\n",
       "<table border=\"1\" class=\"dataframe\">\n",
       "  <thead>\n",
       "    <tr style=\"text-align: right;\">\n",
       "      <th></th>\n",
       "      <th>Wave</th>\n",
       "      <th>SiteID</th>\n",
       "      <th>Date</th>\n",
       "      <th>Weather</th>\n",
       "      <th>Time</th>\n",
       "      <th>Day</th>\n",
       "      <th>Round</th>\n",
       "      <th>Direction</th>\n",
       "      <th>Path</th>\n",
       "      <th>Mode</th>\n",
       "      <th>Count</th>\n",
       "    </tr>\n",
       "  </thead>\n",
       "  <tbody>\n",
       "    <tr>\n",
       "      <th>0</th>\n",
       "      <td>2014 Q1 (Jan-Mar)</td>\n",
       "      <td>ML0001</td>\n",
       "      <td>24/01/2014</td>\n",
       "      <td>Dry</td>\n",
       "      <td>06:00:00</td>\n",
       "      <td>Weekday</td>\n",
       "      <td>A</td>\n",
       "      <td>Northbound</td>\n",
       "      <td>NaN</td>\n",
       "      <td>Private cycles</td>\n",
       "      <td>0</td>\n",
       "    </tr>\n",
       "    <tr>\n",
       "      <th>1</th>\n",
       "      <td>2014 Q1 (Jan-Mar)</td>\n",
       "      <td>ML0001</td>\n",
       "      <td>24/01/2014</td>\n",
       "      <td>Dry</td>\n",
       "      <td>06:15:00</td>\n",
       "      <td>Weekday</td>\n",
       "      <td>A</td>\n",
       "      <td>Northbound</td>\n",
       "      <td>NaN</td>\n",
       "      <td>Private cycles</td>\n",
       "      <td>15</td>\n",
       "    </tr>\n",
       "    <tr>\n",
       "      <th>2</th>\n",
       "      <td>2014 Q1 (Jan-Mar)</td>\n",
       "      <td>ML0001</td>\n",
       "      <td>24/01/2014</td>\n",
       "      <td>Dry</td>\n",
       "      <td>06:30:00</td>\n",
       "      <td>Weekday</td>\n",
       "      <td>A</td>\n",
       "      <td>Northbound</td>\n",
       "      <td>NaN</td>\n",
       "      <td>Private cycles</td>\n",
       "      <td>35</td>\n",
       "    </tr>\n",
       "    <tr>\n",
       "      <th>3</th>\n",
       "      <td>2014 Q1 (Jan-Mar)</td>\n",
       "      <td>ML0001</td>\n",
       "      <td>24/01/2014</td>\n",
       "      <td>Dry</td>\n",
       "      <td>06:45:00</td>\n",
       "      <td>Weekday</td>\n",
       "      <td>A</td>\n",
       "      <td>Northbound</td>\n",
       "      <td>NaN</td>\n",
       "      <td>Private cycles</td>\n",
       "      <td>59</td>\n",
       "    </tr>\n",
       "    <tr>\n",
       "      <th>4</th>\n",
       "      <td>2014 Q1 (Jan-Mar)</td>\n",
       "      <td>ML0001</td>\n",
       "      <td>24/01/2014</td>\n",
       "      <td>Dry</td>\n",
       "      <td>07:00:00</td>\n",
       "      <td>Weekday</td>\n",
       "      <td>A</td>\n",
       "      <td>Northbound</td>\n",
       "      <td>NaN</td>\n",
       "      <td>Private cycles</td>\n",
       "      <td>73</td>\n",
       "    </tr>\n",
       "  </tbody>\n",
       "</table>\n",
       "</div>"
      ],
      "text/plain": [
       "                Wave  SiteID        Date Weather      Time      Day Round  \\\n",
       "0  2014 Q1 (Jan-Mar)  ML0001  24/01/2014     Dry  06:00:00  Weekday     A   \n",
       "1  2014 Q1 (Jan-Mar)  ML0001  24/01/2014     Dry  06:15:00  Weekday     A   \n",
       "2  2014 Q1 (Jan-Mar)  ML0001  24/01/2014     Dry  06:30:00  Weekday     A   \n",
       "3  2014 Q1 (Jan-Mar)  ML0001  24/01/2014     Dry  06:45:00  Weekday     A   \n",
       "4  2014 Q1 (Jan-Mar)  ML0001  24/01/2014     Dry  07:00:00  Weekday     A   \n",
       "\n",
       "    Direction Path            Mode  Count  \n",
       "0  Northbound  NaN  Private cycles      0  \n",
       "1  Northbound  NaN  Private cycles     15  \n",
       "2  Northbound  NaN  Private cycles     35  \n",
       "3  Northbound  NaN  Private cycles     59  \n",
       "4  Northbound  NaN  Private cycles     73  "
      ]
     },
     "execution_count": 4,
     "metadata": {},
     "output_type": "execute_result"
    }
   ],
   "source": [
    "df.head()"
   ]
  },
  {
   "cell_type": "code",
   "execution_count": 11,
   "metadata": {},
   "outputs": [
    {
     "data": {
      "text/plain": [
       "Index(['Wave', 'SiteID', 'Date', 'Weather', 'Time', 'Day', 'Round',\n",
       "       'Direction', 'Path', 'Mode', 'Count'],\n",
       "      dtype='object')"
      ]
     },
     "execution_count": 11,
     "metadata": {},
     "output_type": "execute_result"
    }
   ],
   "source": [
    "df.columns"
   ]
  },
  {
   "cell_type": "code",
   "execution_count": 7,
   "metadata": {},
   "outputs": [
    {
     "data": {
      "text/plain": [
       "Wave         object\n",
       "SiteID       object\n",
       "Date         object\n",
       "Weather      object\n",
       "Time         object\n",
       "Day          object\n",
       "Round        object\n",
       "Direction    object\n",
       "Path         object\n",
       "Mode         object\n",
       "Count         int64\n",
       "dtype: object"
      ]
     },
     "execution_count": 7,
     "metadata": {},
     "output_type": "execute_result"
    }
   ],
   "source": [
    "df.dtypes"
   ]
  },
  {
   "cell_type": "code",
   "execution_count": 12,
   "metadata": {},
   "outputs": [
    {
     "data": {
      "text/plain": [
       "Wave             0\n",
       "SiteID           0\n",
       "Date             0\n",
       "Weather          0\n",
       "Time             0\n",
       "Day              0\n",
       "Round            0\n",
       "Direction        0\n",
       "Path         50048\n",
       "Mode             0\n",
       "Count            0\n",
       "dtype: int64"
      ]
     },
     "execution_count": 12,
     "metadata": {},
     "output_type": "execute_result"
    }
   ],
   "source": [
    "df.isnull().sum()"
   ]
  }
 ],
 "metadata": {
  "kernelspec": {
   "display_name": ".venv",
   "language": "python",
   "name": "python3"
  },
  "language_info": {
   "codemirror_mode": {
    "name": "ipython",
    "version": 3
   },
   "file_extension": ".py",
   "mimetype": "text/x-python",
   "name": "python",
   "nbconvert_exporter": "python",
   "pygments_lexer": "ipython3",
   "version": "3.12.3"
  }
 },
 "nbformat": 4,
 "nbformat_minor": 2
}
